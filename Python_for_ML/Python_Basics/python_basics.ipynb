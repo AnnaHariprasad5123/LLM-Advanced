{
 "cells": [
  {
   "cell_type": "markdown",
   "metadata": {},
   "source": [
    "## Python Basics"
   ]
  },
  {
   "cell_type": "markdown",
   "metadata": {},
   "source": [
    "### 1. Variables and Data Types"
   ]
  },
  {
   "cell_type": "code",
   "execution_count": 4,
   "metadata": {},
   "outputs": [
    {
     "name": "stdout",
     "output_type": "stream",
     "text": [
      "10 -> <class 'int'>\n",
      "3.14 -> <class 'float'>\n",
      "Alice -> <class 'str'>\n",
      "True -> <class 'bool'>\n"
     ]
    }
   ],
   "source": [
    "x = 10               \n",
    "y = 3.14             \n",
    "name = \"Alice\"       \n",
    "is_student = True \n",
    "\n",
    "print(x, '->', type(x))\n",
    "print(y,'->', type(y))\n",
    "print(name,'->', type(name))\n",
    "print(is_student,'->', type(is_student))"
   ]
  },
  {
   "cell_type": "markdown",
   "metadata": {},
   "source": [
    "### 2. Arithmetic Operations"
   ]
  },
  {
   "cell_type": "code",
   "execution_count": 5,
   "metadata": {},
   "outputs": [
    {
     "name": "stdout",
     "output_type": "stream",
     "text": [
      "19\n",
      "11\n",
      "60\n",
      "3.75\n",
      "3\n",
      "3\n",
      "50625\n"
     ]
    }
   ],
   "source": [
    "a = 15\n",
    "b = 4\n",
    "\n",
    "print(a + b)  \n",
    "print(a - b)   \n",
    "print(a * b)   \n",
    "print(a / b)  \n",
    "print(a // b) # floor division\n",
    "print(a % b)   \n",
    "print(a ** b)  # a power of b"
   ]
  },
  {
   "cell_type": "markdown",
   "metadata": {},
   "source": [
    "### 3.  Relational operators (<, >, <=, >=, ==, !=)"
   ]
  },
  {
   "cell_type": "code",
   "execution_count": 6,
   "metadata": {},
   "outputs": [
    {
     "name": "stdout",
     "output_type": "stream",
     "text": [
      "a == b: False\n",
      "a != b: True\n",
      "a > b: False\n",
      "a < b: True\n",
      "a >= b: False\n",
      "a <= b: True\n"
     ]
    }
   ],
   "source": [
    "a = 10\n",
    "b = 20\n",
    "\n",
    "print(\"a == b:\", a == b)      \n",
    "print(\"a != b:\", a != b)      \n",
    "print(\"a > b:\", a > b)        \n",
    "print(\"a < b:\", a < b)       \n",
    "print(\"a >= b:\", a >= b)     \n",
    "print(\"a <= b:\", a <= b)     \n"
   ]
  },
  {
   "cell_type": "markdown",
   "metadata": {},
   "source": [
    "### 4. Logical operators (and, or, not)"
   ]
  },
  {
   "cell_type": "code",
   "execution_count": 7,
   "metadata": {},
   "outputs": [
    {
     "name": "stdout",
     "output_type": "stream",
     "text": [
      "You qualify for the youth discount.\n"
     ]
    }
   ],
   "source": [
    "age = 22\n",
    "is_student = False\n",
    "has_membership = True\n",
    "\n",
    "if (age >= 18 and age <= 25) and (is_student or has_membership):\n",
    "    print(\"You qualify for the youth discount.\")\n",
    "else:\n",
    "    print(\"No discount for you.\")"
   ]
  },
  {
   "cell_type": "markdown",
   "metadata": {},
   "source": [
    "### 5. Assignment Operators (=, +=, -=, *=, /=, etc.)"
   ]
  },
  {
   "cell_type": "code",
   "execution_count": 8,
   "metadata": {},
   "outputs": [
    {
     "name": "stdout",
     "output_type": "stream",
     "text": [
      "15\n",
      "12\n",
      "24\n",
      "6.0\n",
      "0.0\n",
      "0.0\n",
      "0.0\n"
     ]
    }
   ],
   "source": [
    "x = 10\n",
    "\n",
    "x += 5  \n",
    "print(x)  \n",
    "\n",
    "\n",
    "x -= 3  \n",
    "print(x) \n",
    "\n",
    "x *= 2  \n",
    "print(x)  \n",
    "\n",
    "x /= 4 \n",
    "print(x)  \n",
    "\n",
    "x %= 3 \n",
    "print(x)  \n",
    "\n",
    "x //= 2  \n",
    "print(x)  \n",
    "\n",
    "x **= 2 \n",
    "print(x)  \n"
   ]
  },
  {
   "cell_type": "markdown",
   "metadata": {},
   "source": [
    "### 6. Bitwise Operators (&, |, ^, ~, <<, >>)"
   ]
  },
  {
   "cell_type": "code",
   "execution_count": 9,
   "metadata": {},
   "outputs": [
    {
     "name": "stdout",
     "output_type": "stream",
     "text": [
      "1\n",
      "7\n",
      "6\n",
      "-6\n",
      "10\n",
      "2\n"
     ]
    }
   ],
   "source": [
    "a = 5  \n",
    "b = 3 \n",
    "result = a & b  \n",
    "print(result)  \n",
    "\n",
    "result = a | b \n",
    "print(result)  \n",
    "\n",
    "result = a ^ b  \n",
    "print(result)  \n",
    "\n",
    "result = ~a \n",
    "print(result)  \n",
    "\n",
    "result = a << 1 \n",
    "print(result) \n",
    "\n",
    "result = a >> 1  \n",
    "print(result)  "
   ]
  },
  {
   "cell_type": "markdown",
   "metadata": {},
   "source": [
    "### 7. Conditional Statements"
   ]
  },
  {
   "cell_type": "code",
   "execution_count": 1,
   "metadata": {},
   "outputs": [
    {
     "name": "stdout",
     "output_type": "stream",
     "text": [
      "You are an adult.\n"
     ]
    }
   ],
   "source": [
    "age = int(input(\"Enter your age: \"))\n",
    "\n",
    "if age < 18:\n",
    "    print(\"You are a minor.\")\n",
    "elif age >= 18 and age < 65:\n",
    "    print(\"You are an adult.\")\n",
    "else:\n",
    "    print(\"You are a senior citizen.\")\n"
   ]
  },
  {
   "cell_type": "markdown",
   "metadata": {},
   "source": [
    "### 8. Loops"
   ]
  },
  {
   "cell_type": "code",
   "execution_count": null,
   "metadata": {},
   "outputs": [
    {
     "name": "stdout",
     "output_type": "stream",
     "text": [
      "The apple is ripe.\n",
      "The banana is not ripe.\n",
      "The cherry is ripe.\n",
      "The date is not ripe.\n"
     ]
    }
   ],
   "source": [
    "fruits = [(\"apple\", True), (\"banana\", False), (\"cherry\", True), (\"date\", False)]\n",
    "\n",
    "for fruit, is_ripe in fruits:\n",
    "    if is_ripe:\n",
    "        print(f\"The {fruit} is ripe.\")\n",
    "    else:\n",
    "        print(f\"The {fruit} is not ripe.\")"
   ]
  },
  {
   "cell_type": "code",
   "execution_count": null,
   "metadata": {},
   "outputs": [
    {
     "name": "stdout",
     "output_type": "stream",
     "text": [
      "10 is even.\n",
      "9 is odd.\n",
      "8 is even.\n",
      "7 is odd.\n",
      "6 is even.\n",
      "5 is odd.\n",
      "4 is even.\n",
      "3 is odd.\n",
      "2 is even.\n",
      "1 is odd.\n"
     ]
    }
   ],
   "source": [
    "num = 10\n",
    "\n",
    "while num > 0:\n",
    "    if num % 2 == 0:\n",
    "        print(f\"{num} is even.\")\n",
    "    else:\n",
    "        print(f\"{num} is odd.\")\n",
    "    num -= 1\n"
   ]
  },
  {
   "cell_type": "markdown",
   "metadata": {},
   "source": [
    "### 9. Functions"
   ]
  },
  {
   "cell_type": "code",
   "execution_count": null,
   "metadata": {},
   "outputs": [
    {
     "name": "stdout",
     "output_type": "stream",
     "text": [
      "Hello, welcome to Python!\n",
      "The sum is: 8\n",
      "Hello, Alice!\n",
      "Hello, Guest!\n",
      "1\n",
      "2\n",
      "3\n",
      "4\n",
      "5\n",
      "name: Alice\n",
      "age: 25\n",
      "job: Engineer\n",
      "Multiplication result: 20\n",
      "This is the inner function!\n"
     ]
    }
   ],
   "source": [
    "def greet():\n",
    "    print(\"Hello, welcome to Python!\")\n",
    "\n",
    "greet()  \n",
    "\n",
    "def add(a, b):\n",
    "    return a + b\n",
    "\n",
    "result = add(5, 3)\n",
    "print(f\"The sum is: {result}\")\n",
    "\n",
    "\n",
    "def greet_person(name=\"Guest\"):\n",
    "    print(f\"Hello, {name}!\")\n",
    "\n",
    "greet_person(\"Alice\")\n",
    "greet_person()  \n",
    "\n",
    "\n",
    "def print_numbers(*args):\n",
    "    for num in args:\n",
    "        print(num)\n",
    "\n",
    "print_numbers(1, 2, 3, 4, 5)\n",
    "\n",
    "\n",
    "def print_info(**kwargs):\n",
    "    for key, value in kwargs.items():\n",
    "        print(f\"{key}: {value}\")\n",
    "\n",
    "print_info(name=\"Alice\", age=25, job=\"Engineer\")\n",
    "\n",
    "\n",
    "multiply = lambda x, y: x * y\n",
    "print(f\"Multiplication result: {multiply(4, 5)}\")\n",
    "\n",
    "\n",
    "def outer_function():\n",
    "    def inner_function():\n",
    "        return \"This is the inner function!\"\n",
    "    return inner_function\n",
    "\n",
    "inner = outer_function()\n",
    "print(inner())  "
   ]
  },
  {
   "cell_type": "markdown",
   "metadata": {},
   "source": [
    "### 10. Input - Taking data from user"
   ]
  },
  {
   "cell_type": "code",
   "execution_count": null,
   "metadata": {},
   "outputs": [
    {
     "name": "stdout",
     "output_type": "stream",
     "text": [
      "Hari 24 5.6 2 4 [1, 5, 2, 5, 6, 7, 2, 8, 2, 3]\n"
     ]
    }
   ],
   "source": [
    "name = input(\"Enter your name: \")\n",
    "\n",
    "age = int(input(\"Enter your age: \"))\n",
    "\n",
    "height = float(input(\"Enter your height: \"))\n",
    "\n",
    "\n",
    "x, y = input(\"Enter two numbers separated by space: \").split()\n",
    "x = int(x)\n",
    "y = int(y)\n",
    "\n",
    "\n",
    "n = int(input(\"How many numbers do you want to enter? \"))\n",
    "numbers = [int(input(f\"Enter number {i+1}: \")) for i in range(n)]\n",
    "\n",
    "print(name, age, height, x, y, numbers)\n"
   ]
  },
  {
   "cell_type": "markdown",
   "metadata": {},
   "source": [
    "### 11. Class, Objects, Instance, static and class variables or  methods"
   ]
  },
  {
   "cell_type": "code",
   "execution_count": null,
   "metadata": {},
   "outputs": [
    {
     "name": "stdout",
     "output_type": "stream",
     "text": [
      "2023 Generic ModelX (Silver) - Wheels: 4\n",
      "2021 Toyota Camry (Blue) - Wheels: 4\n",
      "Fuel Type: Gasoline\n",
      "2022 Ford F-150 (Red) - Wheels: 4\n",
      "Load Capacity: 2.5 tons\n",
      "This is a generic vehicle.\n",
      "This is a car.\n",
      "This is a truck.\n",
      "Vehicle wheel count updated to 6.\n",
      "2023 Generic ModelX (Silver) - Wheels: 6\n",
      "2021 Toyota Camry (Blue) - Wheels: 6\n",
      "Fuel Type: Gasoline\n",
      "2022 Ford F-150 (Red) - Wheels: 6\n",
      "Load Capacity: 2.5 tons\n"
     ]
    }
   ],
   "source": [
    "class Vehicle:\n",
    "\n",
    "    wheels = 4  \n",
    "\n",
    "    def __init__(self, make, model, year, color):\n",
    "        self.make = make\n",
    "        self.model = model\n",
    "        self.year = year\n",
    "        self.color = color\n",
    "\n",
    "    def display_info(self):\n",
    "        print(f\"{self.year} {self.make} {self.model} ({self.color}) - Wheels: {Vehicle.wheels}\")\n",
    "\n",
    "    @staticmethod\n",
    "    def vehicle_type():\n",
    "        print(\"This is a generic vehicle.\")\n",
    "\n",
    "    @classmethod\n",
    "    def change_wheel_count(cls, new_wheel_count):\n",
    "        cls.wheels = new_wheel_count\n",
    "        print(f\"Vehicle wheel count updated to {cls.wheels}.\")\n",
    "\n",
    "\n",
    "class Car(Vehicle):\n",
    "    def __init__(self, make, model, year, color, fuel_type):\n",
    "        super().__init__(make, model, year, color)\n",
    "        self.fuel_type = fuel_type  \n",
    "\n",
    "    def display_info(self):\n",
    "        super().display_info()  \n",
    "        print(f\"Fuel Type: {self.fuel_type}\")\n",
    "\n",
    "    @staticmethod\n",
    "    def car_type():\n",
    "        print(\"This is a car.\")\n",
    "\n",
    "class Truck(Vehicle):\n",
    "    def __init__(self, make, model, year, color, load_capacity):\n",
    "        super().__init__(make, model, year, color)\n",
    "        self.load_capacity = load_capacity  \n",
    "\n",
    "    def display_info(self):\n",
    "        super().display_info() \n",
    "        print(f\"Load Capacity: {self.load_capacity} tons\")\n",
    "\n",
    "    @staticmethod\n",
    "    def truck_type():\n",
    "        print(\"This is a truck.\")\n",
    "\n",
    "\n",
    "vehicle = Vehicle(\"Generic\", \"ModelX\", 2023, \"Silver\")\n",
    "car = Car(\"Toyota\", \"Camry\", 2021, \"Blue\", \"Gasoline\")\n",
    "truck = Truck(\"Ford\", \"F-150\", 2022, \"Red\", 2.5)\n",
    "\n",
    "# Display Information\n",
    "vehicle.display_info() \n",
    "car.display_info()    \n",
    "truck.display_info()   \n",
    "\n",
    "# Static Methods\n",
    "Vehicle.vehicle_type() \n",
    "Car.car_type()         \n",
    "Truck.truck_type()    \n",
    "\n",
    "# Modify Class Variable (via Class Method)\n",
    "Vehicle.change_wheel_count(6)\n",
    "\n",
    "# Display Information again after changing class variable (wheels)\n",
    "vehicle.display_info()\n",
    "car.display_info()\n",
    "truck.display_info()\n"
   ]
  },
  {
   "cell_type": "markdown",
   "metadata": {},
   "source": [
    "## Datastructures"
   ]
  },
  {
   "cell_type": "markdown",
   "metadata": {},
   "source": [
    "### Strings"
   ]
  },
  {
   "cell_type": "code",
   "execution_count": 11,
   "metadata": {},
   "outputs": [],
   "source": [
    "input_string = \"   Anna Hariprasad is learning python programming language. He is 24 years old.  \""
   ]
  },
  {
   "cell_type": "code",
   "execution_count": 12,
   "metadata": {},
   "outputs": [
    {
     "name": "stdout",
     "output_type": "stream",
     "text": [
      "String Case Methods\n",
      "Lowercase:    anna hariprasad is learning python programming language. he is 24 years old.  \n",
      "Uppercase:    ANNA HARIPRASAD IS LEARNING PYTHON PROGRAMMING LANGUAGE. HE IS 24 YEARS OLD.  \n",
      "Title Case:    Anna Hariprasad Is Learning Python Programming Language. He Is 24 Years Old.  \n",
      "Swapcase:    aNNA hARIPRASAD IS LEARNING PYTHON PROGRAMMING LANGUAGE. hE IS 24 YEARS OLD.  \n"
     ]
    }
   ],
   "source": [
    "\n",
    "# ---------------------------------------------------------------\n",
    "print(\"String Case Methods\")\n",
    "# ---------------------------------------------------------------\n",
    "# Convert to lowercase\n",
    "print(\"Lowercase:\", input_string.lower())\n",
    "\n",
    "# Convert to uppercase\n",
    "print(\"Uppercase:\", input_string.upper())\n",
    "\n",
    "# Convert to title case (first letter of each word capitalized)\n",
    "print(\"Title Case:\", input_string.title())\n",
    "\n",
    "# Convert to swap case (swap lowercase and uppercase)\n",
    "print(\"Swapcase:\", input_string.swapcase())"
   ]
  },
  {
   "cell_type": "code",
   "execution_count": 13,
   "metadata": {},
   "outputs": [
    {
     "name": "stdout",
     "output_type": "stream",
     "text": [
      "String Searching Methods\n",
      "Starts with 'Python': False\n",
      "Ends with 'language': False\n",
      "Find 'is': 19\n",
      "Count of 'is': 2\n"
     ]
    }
   ],
   "source": [
    "# ---------------------------------------------------------------\n",
    "print(\"String Searching Methods\")\n",
    "# ---------------------------------------------------------------\n",
    "# Check if string starts with a specified substring\n",
    "print(\"Starts with 'Python':\", input_string.startswith(\"Python\"))\n",
    "\n",
    "# Check if string ends with a specified substring\n",
    "print(\"Ends with 'language':\", input_string.endswith(\"language\"))\n",
    "\n",
    "# Find the first occurrence of a substring, returns -1 if not found\n",
    "print(\"Find 'is':\", input_string.find(\"is\"))\n",
    "\n",
    "# Count occurrences of a substring\n",
    "print(\"Count of 'is':\", input_string.count(\"is\"))"
   ]
  },
  {
   "cell_type": "code",
   "execution_count": 14,
   "metadata": {},
   "outputs": [
    {
     "name": "stdout",
     "output_type": "stream",
     "text": [
      "String Transformation Methods\n",
      "Remove leading and trailing whitespaces: Anna Hariprasad is learning python programming language. He is 24 years old.\n",
      "Remove leading whitespaces: Anna Hariprasad is learning python programming language. He is 24 years old.  \n",
      "Remove trailing whitespaces:    Anna Hariprasad is learning python programming language. He is 24 years old.\n",
      "Replace 'old' with 'new':    Anna Hariprasad is learning python programming language. He is 24 years new.  \n"
     ]
    }
   ],
   "source": [
    "# ---------------------------------------------------------------\n",
    "print(\"String Transformation Methods\")\n",
    "# ---------------------------------------------------------------\n",
    "# Remove leading and trailing whitespaces\n",
    "print(\"Remove leading and trailing whitespaces:\", input_string.strip())\n",
    "\n",
    "# Remove leading whitespaces\n",
    "print(\"Remove leading whitespaces:\", input_string.lstrip())\n",
    "\n",
    "# Remove trailing whitespaces\n",
    "print(\"Remove trailing whitespaces:\", input_string.rstrip())\n",
    "\n",
    "# Replace a substring with another substring\n",
    "print(\"Replace 'old' with 'new':\", input_string.replace(\"old\", \"new\"))"
   ]
  },
  {
   "cell_type": "code",
   "execution_count": 15,
   "metadata": {},
   "outputs": [
    {
     "name": "stdout",
     "output_type": "stream",
     "text": [
      "String Testing Methods\n",
      "Is alphabetic: False\n",
      "Is digit: False\n",
      "Is alphanumeric: False\n",
      "Is identifier: False\n"
     ]
    }
   ],
   "source": [
    "# ---------------------------------------------------------------\n",
    "print(\"String Testing Methods\")\n",
    "# ---------------------------------------------------------------\n",
    "# Check if string contains only alphabetic characters\n",
    "print(\"Is alphabetic:\", input_string.isalpha())\n",
    "\n",
    "# Check if string contains only digits\n",
    "print(\"Is digit:\", input_string.isdigit())\n",
    "\n",
    "# Check if string is alphanumeric (letters and numbers only)\n",
    "print(\"Is alphanumeric:\", input_string.isalnum())\n",
    "\n",
    "# Check if string is a valid identifier (i.e., can be used as a variable name)\n",
    "print(\"Is identifier:\", input_string.isidentifier())"
   ]
  },
  {
   "cell_type": "code",
   "execution_count": 16,
   "metadata": {},
   "outputs": [
    {
     "name": "stdout",
     "output_type": "stream",
     "text": [
      "String Splitting and Joining Methods\n",
      "Split by spaces: ['Anna', 'Hariprasad', 'is', 'learning', 'python', 'programming', 'language.', 'He', 'is', '24', 'years', 'old.']\n",
      "Split by comma: ['   Anna Hariprasad is learning python programming language. He is 24 years old.  ']\n",
      "Join list with space: Hello World\n"
     ]
    }
   ],
   "source": [
    "# ---------------------------------------------------------------\n",
    "print(\"String Splitting and Joining Methods\")\n",
    "# ---------------------------------------------------------------\n",
    "# Split string into a list of words based on spaces\n",
    "print(\"Split by spaces:\", input_string.split())\n",
    "\n",
    "# Split string by a specific delimiter (e.g., comma)\n",
    "print(\"Split by comma:\", input_string.split(','))\n",
    "\n",
    "# Join a list of strings into a single string with a separator\n",
    "words_list = [\"Hello\", \"World\"]\n",
    "print(\"Join list with space:\", \" \".join(words_list))"
   ]
  },
  {
   "cell_type": "markdown",
   "metadata": {},
   "source": [
    "### Lists"
   ]
  },
  {
   "cell_type": "code",
   "execution_count": 22,
   "metadata": {},
   "outputs": [
    {
     "name": "stdout",
     "output_type": "stream",
     "text": [
      "List Methods: Add, Remove, and Modify\n",
      "After append: [1, 2, 3, 4]\n",
      "After insert: [1, 2, 5, 3, 4]\n",
      "After remove: [1, 2, 3, 4]\n",
      "After pop: [1, 3, 4]\n",
      "Popped item: 2\n",
      "List Methods: Search and Count\n",
      "Contains 3: True\n",
      "Count of 2: 1\n",
      "Index of 2: 1\n",
      "List Methods: Sorting and Reversing\n",
      "After sort: [1, 2, 3]\n",
      "After reverse: [3, 2, 1]\n",
      "List Methods: Copying and Clearing\n",
      "List copy: [3, 2, 1]\n",
      "After clear: []\n",
      "List Methods: Extending and Combining\n",
      "After extend: [1, 2, 3, 4, 5]\n",
      "List Methods: Other Utility Methods\n",
      "Length of list: 5\n",
      "Minimum value in list: 1\n",
      "Maximum value in list: 5\n",
      "Sum of list elements: 15\n"
     ]
    }
   ],
   "source": [
    "# ---------------------------------------------------------------\n",
    "print(\"List Methods: Add, Remove, and Modify\")\n",
    "# ---------------------------------------------------------------\n",
    "# Append an item to the end of the list\n",
    "sample_list = [1, 2, 3]\n",
    "sample_list.append(4)\n",
    "print(\"After append:\", sample_list)\n",
    "\n",
    "# Insert an item at a specific position\n",
    "sample_list.insert(2, 5)  # Insert 5 at index 2\n",
    "print(\"After insert:\", sample_list)\n",
    "\n",
    "# Remove the first occurrence of a specified item\n",
    "sample_list.remove(5)\n",
    "print(\"After remove:\", sample_list)\n",
    "\n",
    "# Remove and return an item at the given index\n",
    "removed_item = sample_list.pop(1)  # Removes the item at index 1\n",
    "print(\"After pop:\", sample_list)\n",
    "print(\"Popped item:\", removed_item)\n",
    "\n",
    "sample_list = [1, 2, 3]\n",
    "\n",
    "# ---------------------------------------------------------------\n",
    "print(\"List Methods: Search and Count\")\n",
    "# ---------------------------------------------------------------\n",
    "# Check if an item exists in the list\n",
    "print(\"Contains 3:\", 3 in sample_list)\n",
    "\n",
    "# Count the occurrences of a specific item\n",
    "print(\"Count of 2:\", sample_list.count(2))\n",
    "\n",
    "# Find the index of the first occurrence of a specific item\n",
    "print(\"Index of 2:\", sample_list.index(2))\n",
    "\n",
    "# ---------------------------------------------------------------\n",
    "print(\"List Methods: Sorting and Reversing\")\n",
    "# ---------------------------------------------------------------\n",
    "# Sort the list in ascending order (modifies the list in place)\n",
    "sample_list.sort()\n",
    "print(\"After sort:\", sample_list)\n",
    "\n",
    "# Reverse the list\n",
    "sample_list.reverse()\n",
    "print(\"After reverse:\", sample_list)\n",
    "\n",
    "# ---------------------------------------------------------------\n",
    "print(\"List Methods: Copying and Clearing\")\n",
    "# ---------------------------------------------------------------\n",
    "# Make a shallow copy of the list\n",
    "list_copy = sample_list.copy()\n",
    "print(\"List copy:\", list_copy)\n",
    "\n",
    "# Clear all items from the list\n",
    "sample_list.clear()\n",
    "print(\"After clear:\", sample_list)\n",
    "\n",
    "# ---------------------------------------------------------------\n",
    "print(\"List Methods: Extending and Combining\")\n",
    "# ---------------------------------------------------------------\n",
    "# Extend the list by appending elements from another iterable\n",
    "sample_list = [1, 2, 3]\n",
    "sample_list.extend([4, 5])\n",
    "print(\"After extend:\", sample_list)\n",
    "\n",
    "# ---------------------------------------------------------------\n",
    "print(\"List Methods: Other Utility Methods\")\n",
    "# ---------------------------------------------------------------\n",
    "# Return the length of the list\n",
    "print(\"Length of list:\", len(sample_list))\n",
    "\n",
    "# Return the minimum value in the list\n",
    "print(\"Minimum value in list:\", min(sample_list))\n",
    "\n",
    "# Return the maximum value in the list\n",
    "print(\"Maximum value in list:\", max(sample_list))\n",
    "\n",
    "# Return the sum of the elements in the list\n",
    "print(\"Sum of list elements:\", sum(sample_list))\n"
   ]
  },
  {
   "cell_type": "markdown",
   "metadata": {},
   "source": [
    "### Tuples"
   ]
  },
  {
   "cell_type": "code",
   "execution_count": 2,
   "metadata": {},
   "outputs": [
    {
     "name": "stdout",
     "output_type": "stream",
     "text": [
      "Tuple Methods: Creating and Modifying\n",
      "Created tuple: (1, 2, 3)\n",
      "Tuple Methods: Counting and Finding\n",
      "Count of 2: 1\n",
      "Index of 2: 1\n",
      "Tuple Methods: Operations\n",
      "After concatenation: (1, 2, 3, 4, 5)\n",
      "After repetition: (1, 2, 3, 1, 2, 3, 1, 2, 3)\n",
      "Tuple Methods: Conversion\n",
      "Converted list to tuple: (6, 7, 8)\n",
      "Converted tuple to list: [1, 2, 3]\n",
      "Tuple Methods: Length, Min, Max\n",
      "Length of tuple: 3\n",
      "Minimum value in tuple: 1\n",
      "Maximum value in tuple: 3\n",
      "Tuple Methods: Nested Tuples\n",
      "Accessing element in nested tuple: (2, 3)\n",
      "Tuple Methods: Membership and Iteration\n",
      "Contains 3: True\n",
      "Iterating over tuple:\n",
      "1->2->3->"
     ]
    }
   ],
   "source": [
    "# ---------------------------------------------------------------\n",
    "print(\"Tuple Methods: Creating and Modifying\")\n",
    "# ---------------------------------------------------------------\n",
    "# Creating a tuple\n",
    "sample_tuple = (1, 2, 3)\n",
    "print(\"Created tuple:\", sample_tuple)\n",
    "\n",
    "# ---------------------------------------------------------------\n",
    "print(\"Tuple Methods: Counting and Finding\")\n",
    "# ---------------------------------------------------------------\n",
    "# Count the occurrences of a specific item in the tuple\n",
    "print(\"Count of 2:\", sample_tuple.count(2))\n",
    "\n",
    "# Find the index of the first occurrence of a specific item in the tuple\n",
    "print(\"Index of 2:\", sample_tuple.index(2))\n",
    "\n",
    "# ---------------------------------------------------------------\n",
    "print(\"Tuple Methods: Operations\")\n",
    "# ---------------------------------------------------------------\n",
    "# Concatenate tuples\n",
    "tuple2 = (4, 5)\n",
    "concatenated_tuple = sample_tuple + tuple2\n",
    "print(\"After concatenation:\", concatenated_tuple)\n",
    "\n",
    "# Repeat tuple (i.e., repeat the tuple 3 times)\n",
    "repeated_tuple = sample_tuple * 3\n",
    "print(\"After repetition:\", repeated_tuple)\n",
    "\n",
    "# ---------------------------------------------------------------\n",
    "print(\"Tuple Methods: Conversion\")\n",
    "# ---------------------------------------------------------------\n",
    "# Convert a list to a tuple\n",
    "sample_list = [6, 7, 8]\n",
    "converted_tuple = tuple(sample_list)\n",
    "print(\"Converted list to tuple:\", converted_tuple)\n",
    "\n",
    "# Convert a tuple to a list\n",
    "converted_list = list(sample_tuple)\n",
    "print(\"Converted tuple to list:\", converted_list)\n",
    "\n",
    "# ---------------------------------------------------------------\n",
    "print(\"Tuple Methods: Length, Min, Max\")\n",
    "# ---------------------------------------------------------------\n",
    "# Get the length of the tuple\n",
    "print(\"Length of tuple:\", len(sample_tuple))\n",
    "\n",
    "# Get the minimum value of the tuple\n",
    "print(\"Minimum value in tuple:\", min(sample_tuple))\n",
    "\n",
    "# Get the maximum value of the tuple\n",
    "print(\"Maximum value in tuple:\", max(sample_tuple))\n",
    "\n",
    "# ---------------------------------------------------------------\n",
    "print(\"Tuple Methods: Nested Tuples\")\n",
    "# ---------------------------------------------------------------\n",
    "# Accessing elements in a nested tuple\n",
    "nested_tuple = (1, (2, 3), 4)\n",
    "print(\"Accessing element in nested tuple:\", nested_tuple[1])\n",
    "\n",
    "# ---------------------------------------------------------------\n",
    "print(\"Tuple Methods: Membership and Iteration\")\n",
    "# ---------------------------------------------------------------\n",
    "# Check if an item exists in the tuple\n",
    "print(\"Contains 3:\", 3 in sample_tuple)\n",
    "\n",
    "# Iterate over the tuple\n",
    "print(\"Iterating over tuple:\")\n",
    "for item in sample_tuple:\n",
    "    print(item, end=\"->\")"
   ]
  },
  {
   "cell_type": "markdown",
   "metadata": {},
   "source": [
    "### Sets"
   ]
  },
  {
   "cell_type": "code",
   "execution_count": 3,
   "metadata": {},
   "outputs": [
    {
     "name": "stdout",
     "output_type": "stream",
     "text": [
      "Set Methods: Creating and Adding Elements\n",
      "Created set: {1, 2, 3}\n",
      "After add: {1, 2, 3, 4}\n",
      "After update: {1, 2, 3, 4, 5, 6}\n",
      "Set Methods: Removing Elements\n",
      "After remove 4: {1, 2, 3, 5, 6}\n",
      "After discard 6: {1, 2, 3, 5}\n",
      "After pop: {2, 3, 5}\n",
      "Popped item: 1\n",
      "After clear: set()\n",
      "Set Methods: Set Operations\n",
      "Union of set2 and {7, 8}: {3, 4, 5, 6, 7, 8}\n",
      "Intersection of set2 and {5, 6, 7}: {5, 6}\n",
      "Difference of set2 and {5, 6, 7}: {3, 4}\n",
      "Symmetric difference of set2 and {5, 6, 7}: {3, 4, 7}\n",
      "Set Methods: Set Properties and Testing\n",
      "Is {3, 4} a subset of set2? True\n",
      "Is set2 a superset of {3, 4}? True\n",
      "Are set2 and {7, 8} disjoint? True\n",
      "Set Methods: Set Properties\n",
      "Length of set2: 4\n",
      "Is set2 empty? False\n",
      "Set Methods: Copying and Conversion\n",
      "Copied set: {3, 4, 5, 6}\n",
      "Converted list to set: {1, 2, 3, 4}\n"
     ]
    }
   ],
   "source": [
    "# ---------------------------------------------------------------\n",
    "print(\"Set Methods: Creating and Adding Elements\")\n",
    "# ---------------------------------------------------------------\n",
    "# Create a set\n",
    "sample_set = {1, 2, 3}\n",
    "print(\"Created set:\", sample_set)\n",
    "\n",
    "# Add an element to the set\n",
    "sample_set.add(4)\n",
    "print(\"After add:\", sample_set)\n",
    "\n",
    "# Add multiple elements to the set (from another iterable)\n",
    "sample_set.update([5, 6])\n",
    "print(\"After update:\", sample_set)\n",
    "\n",
    "# ---------------------------------------------------------------\n",
    "print(\"Set Methods: Removing Elements\")\n",
    "# ---------------------------------------------------------------\n",
    "# Remove an element from the set (raises KeyError if element not found)\n",
    "sample_set.remove(4)\n",
    "print(\"After remove 4:\", sample_set)\n",
    "\n",
    "# Discard an element from the set (does not raise error if element not found)\n",
    "sample_set.discard(6)\n",
    "print(\"After discard 6:\", sample_set)\n",
    "\n",
    "# Pop an arbitrary element from the set (removes and returns it)\n",
    "popped_item = sample_set.pop()\n",
    "print(\"After pop:\", sample_set)\n",
    "print(\"Popped item:\", popped_item)\n",
    "\n",
    "# Clear all elements from the set\n",
    "sample_set.clear()\n",
    "print(\"After clear:\", sample_set)\n",
    "\n",
    "# ---------------------------------------------------------------\n",
    "print(\"Set Methods: Set Operations\")\n",
    "# ---------------------------------------------------------------\n",
    "# Create another set\n",
    "set2 = {3, 4, 5, 6}\n",
    "\n",
    "# Union of two sets (combines unique elements from both sets)\n",
    "union_set = set2.union({7, 8})\n",
    "print(\"Union of set2 and {7, 8}:\", union_set)\n",
    "\n",
    "# Intersection of two sets (common elements between sets)\n",
    "intersection_set = set2.intersection({5, 6, 7})\n",
    "print(\"Intersection of set2 and {5, 6, 7}:\", intersection_set)\n",
    "\n",
    "# Difference of two sets (elements in set2 not in {5, 6, 7})\n",
    "difference_set = set2.difference({5, 6, 7})\n",
    "print(\"Difference of set2 and {5, 6, 7}:\", difference_set)\n",
    "\n",
    "# Symmetric difference of two sets (elements in either set but not in both)\n",
    "symmetric_difference_set = set2.symmetric_difference({5, 6, 7})\n",
    "print(\"Symmetric difference of set2 and {5, 6, 7}:\", symmetric_difference_set)\n",
    "\n",
    "# ---------------------------------------------------------------\n",
    "print(\"Set Methods: Set Properties and Testing\")\n",
    "# ---------------------------------------------------------------\n",
    "# Check if set is a subset of another set\n",
    "print(\"Is {3, 4} a subset of set2?\", {3, 4}.issubset(set2))\n",
    "\n",
    "# Check if set is a superset of another set\n",
    "print(\"Is set2 a superset of {3, 4}?\", set2.issuperset({3, 4}))\n",
    "\n",
    "# Check if two sets are disjoint (no common elements)\n",
    "print(\"Are set2 and {7, 8} disjoint?\", set2.isdisjoint({7, 8}))\n",
    "\n",
    "# ---------------------------------------------------------------\n",
    "print(\"Set Methods: Set Properties\")\n",
    "# ---------------------------------------------------------------\n",
    "# Get the number of elements in the set\n",
    "print(\"Length of set2:\", len(set2))\n",
    "\n",
    "# Check if set is empty\n",
    "print(\"Is set2 empty?\", len(set2) == 0)\n",
    "\n",
    "# ---------------------------------------------------------------\n",
    "print(\"Set Methods: Copying and Conversion\")\n",
    "# ---------------------------------------------------------------\n",
    "# Copy the set\n",
    "set_copy = set2.copy()\n",
    "print(\"Copied set:\", set_copy)\n",
    "\n",
    "# Convert a list to a set (removes duplicates)\n",
    "list_to_set = set([1, 2, 2, 3, 4])\n",
    "print(\"Converted list to set:\", list_to_set)"
   ]
  },
  {
   "cell_type": "markdown",
   "metadata": {},
   "source": [
    "### Dictionaries"
   ]
  },
  {
   "cell_type": "code",
   "execution_count": 4,
   "metadata": {},
   "outputs": [
    {
     "name": "stdout",
     "output_type": "stream",
     "text": [
      "Dictionary Methods: Creating and Adding Items\n",
      "Created dictionary: {'a': 1, 'b': 2}\n",
      "After adding new item: {'a': 1, 'b': 2, 'c': 3}\n",
      "After update with multiple items: {'a': 1, 'b': 2, 'c': 3, 'd': 4, 'e': 5}\n",
      "Dictionary Methods: Removing Items\n",
      "After pop: {'b': 2, 'c': 3, 'd': 4, 'e': 5}\n",
      "Removed item: 1\n",
      "After popitem: {'b': 2, 'c': 3, 'd': 4}\n",
      "Popped item: ('e', 5)\n",
      "After setdefault: {'b': 2, 'c': 3, 'd': 4, 'f': 6}\n",
      "After clear: {}\n",
      "Dictionary Methods: Accessing Items\n",
      "Value of 'b' using get: None\n",
      "Value of 'x' using get with default: Not Found\n",
      "Keys: dict_keys([])\n",
      "Values: dict_values([])\n",
      "Items: dict_items([])\n",
      "Dictionary Methods: Checking Keys and Values\n",
      "Contains key 'b': False\n",
      "Contains value 2: False\n",
      "Dictionary Methods: Dictionary Properties\n",
      "Length of dictionary: 0\n",
      "Dictionary Methods: Copying and Conversion\n",
      "Copied dictionary: {}\n",
      "Dictionary from tuple list: {'x': 1, 'y': 2}\n"
     ]
    }
   ],
   "source": [
    "# ---------------------------------------------------------------\n",
    "print(\"Dictionary Methods: Creating and Adding Items\")\n",
    "# ---------------------------------------------------------------\n",
    "# Create a dictionary\n",
    "sample_dict = {\"a\": 1, \"b\": 2}\n",
    "print(\"Created dictionary:\", sample_dict)\n",
    "\n",
    "# Add a new key-value pair to the dictionary\n",
    "sample_dict[\"c\"] = 3\n",
    "print(\"After adding new item:\", sample_dict)\n",
    "\n",
    "# Add multiple key-value pairs using update\n",
    "sample_dict.update({\"d\": 4, \"e\": 5})\n",
    "print(\"After update with multiple items:\", sample_dict)\n",
    "\n",
    "# ---------------------------------------------------------------\n",
    "print(\"Dictionary Methods: Removing Items\")\n",
    "# ---------------------------------------------------------------\n",
    "# Remove a specific key-value pair (raises KeyError if key not found)\n",
    "removed_item = sample_dict.pop(\"a\")\n",
    "print(\"After pop:\", sample_dict)\n",
    "print(\"Removed item:\", removed_item)\n",
    "\n",
    "# Remove and return an arbitrary key-value pair\n",
    "popped_item = sample_dict.popitem()\n",
    "print(\"After popitem:\", sample_dict)\n",
    "print(\"Popped item:\", popped_item)\n",
    "\n",
    "# Remove a key from the dictionary (no error if key doesn't exist)\n",
    "sample_dict.setdefault(\"f\", 6)\n",
    "print(\"After setdefault:\", sample_dict)\n",
    "\n",
    "# Clear all items from the dictionary\n",
    "sample_dict.clear()\n",
    "print(\"After clear:\", sample_dict)\n",
    "\n",
    "# ---------------------------------------------------------------\n",
    "print(\"Dictionary Methods: Accessing Items\")\n",
    "# ---------------------------------------------------------------\n",
    "# Get the value for a given key (returns None if the key doesn't exist)\n",
    "value_of_b = sample_dict.get(\"b\")\n",
    "print(\"Value of 'b' using get:\", value_of_b)\n",
    "\n",
    "# Get the value for a key with a default value (returns default if key doesn't exist)\n",
    "value_of_x = sample_dict.get(\"x\", \"Not Found\")\n",
    "print(\"Value of 'x' using get with default:\", value_of_x)\n",
    "\n",
    "# Get all keys from the dictionary\n",
    "keys = sample_dict.keys()\n",
    "print(\"Keys:\", keys)\n",
    "\n",
    "# Get all values from the dictionary\n",
    "values = sample_dict.values()\n",
    "print(\"Values:\", values)\n",
    "\n",
    "# Get all key-value pairs from the dictionary\n",
    "items = sample_dict.items()\n",
    "print(\"Items:\", items)\n",
    "\n",
    "# ---------------------------------------------------------------\n",
    "print(\"Dictionary Methods: Checking Keys and Values\")\n",
    "# ---------------------------------------------------------------\n",
    "# Check if a specific key exists in the dictionary\n",
    "print(\"Contains key 'b':\", \"b\" in sample_dict)\n",
    "\n",
    "# Check if a specific value exists in the dictionary\n",
    "print(\"Contains value 2:\", 2 in sample_dict.values())\n",
    "\n",
    "# ---------------------------------------------------------------\n",
    "print(\"Dictionary Methods: Dictionary Properties\")\n",
    "# ---------------------------------------------------------------\n",
    "# Get the length (number of items) in the dictionary\n",
    "print(\"Length of dictionary:\", len(sample_dict))\n",
    "\n",
    "# ---------------------------------------------------------------\n",
    "print(\"Dictionary Methods: Copying and Conversion\")\n",
    "# ---------------------------------------------------------------\n",
    "# Make a shallow copy of the dictionary\n",
    "dict_copy = sample_dict.copy()\n",
    "print(\"Copied dictionary:\", dict_copy)\n",
    "\n",
    "# Convert a list of tuples into a dictionary\n",
    "tuple_list = [(\"x\", 1), (\"y\", 2)]\n",
    "dict_from_tuple = dict(tuple_list)\n",
    "print(\"Dictionary from tuple list:\", dict_from_tuple)"
   ]
  },
  {
   "cell_type": "code",
   "execution_count": null,
   "metadata": {},
   "outputs": [],
   "source": []
  }
 ],
 "metadata": {
  "kernelspec": {
   "display_name": "Python 3",
   "language": "python",
   "name": "python3"
  },
  "language_info": {
   "codemirror_mode": {
    "name": "ipython",
    "version": 3
   },
   "file_extension": ".py",
   "mimetype": "text/x-python",
   "name": "python",
   "nbconvert_exporter": "python",
   "pygments_lexer": "ipython3",
   "version": "3.10.12"
  }
 },
 "nbformat": 4,
 "nbformat_minor": 2
}
