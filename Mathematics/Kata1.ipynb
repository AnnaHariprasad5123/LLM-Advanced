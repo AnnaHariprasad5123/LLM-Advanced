{
 "cells": [
  {
   "cell_type": "markdown",
   "metadata": {},
   "source": [
    "### **Movie Recommendation with User Preferences**\n",
    "\n",
    "**Scenario:** You're building a movie recommendation system. Users can rate movies on a scale of 1 (dislike) to 5 (like). Your goal is to create a system that recommends movies to users based on their preferences.\n",
    "\n",
    "**Tasks:**\n",
    "\n",
    "**1. Data Representation:**\n",
    "\n",
    "1. Represent each user as a vector where each element corresponds to a movie genre. Initialize all elements to 0.\n",
    "2. For each movie rating by a user, update the corresponding genre element in their vector by the rating value.\n",
    "\n",
    "**2. Recommendation:**\n",
    "\n",
    "1. Define a function to recommend movies for a user. This function can take the user's preference vector (or the PCA-reduced version) and a list of movies with genre information as input.\n",
    "2. Calculate a similarity score between the user's preference vector and the genre vector of each movie (e.g., using dot product).\n",
    "3. Recommend movies with the highest similarity scores to the user.\n"
   ]
  },
  {
   "cell_type": "markdown",
   "metadata": {},
   "source": [
    "### Importing Libraries"
   ]
  },
  {
   "cell_type": "code",
   "execution_count": 1,
   "metadata": {},
   "outputs": [],
   "source": [
    "import pandas as pd\n",
    "import numpy as np"
   ]
  },
  {
   "cell_type": "markdown",
   "metadata": {},
   "source": [
    "### Reading CSV file"
   ]
  },
  {
   "cell_type": "code",
   "execution_count": 2,
   "metadata": {},
   "outputs": [],
   "source": [
    "url = \"/home/haria/Documents/Learnings/LLM Advanced/Mathematics/movie_ratings.csv\"\n",
    "movie_ratings = pd.read_csv(url, encoding='utf-8')"
   ]
  },
  {
   "cell_type": "markdown",
   "metadata": {},
   "source": [
    "### Printing 5 rows"
   ]
  },
  {
   "cell_type": "code",
   "execution_count": 3,
   "metadata": {},
   "outputs": [
    {
     "data": {
      "text/html": [
       "<div>\n",
       "<style scoped>\n",
       "    .dataframe tbody tr th:only-of-type {\n",
       "        vertical-align: middle;\n",
       "    }\n",
       "\n",
       "    .dataframe tbody tr th {\n",
       "        vertical-align: top;\n",
       "    }\n",
       "\n",
       "    .dataframe thead th {\n",
       "        text-align: right;\n",
       "    }\n",
       "</style>\n",
       "<table border=\"1\" class=\"dataframe\">\n",
       "  <thead>\n",
       "    <tr style=\"text-align: right;\">\n",
       "      <th></th>\n",
       "      <th>movieId</th>\n",
       "      <th>userId</th>\n",
       "      <th>title</th>\n",
       "      <th>genres</th>\n",
       "      <th>rating</th>\n",
       "    </tr>\n",
       "  </thead>\n",
       "  <tbody>\n",
       "    <tr>\n",
       "      <th>0</th>\n",
       "      <td>m1</td>\n",
       "      <td>u1</td>\n",
       "      <td>The Godfather</td>\n",
       "      <td>['Crime', 'Drama']</td>\n",
       "      <td>5</td>\n",
       "    </tr>\n",
       "    <tr>\n",
       "      <th>1</th>\n",
       "      <td>m2</td>\n",
       "      <td>u1</td>\n",
       "      <td>The Shawshank Redemption</td>\n",
       "      <td>['Drama', 'Crime']</td>\n",
       "      <td>4</td>\n",
       "    </tr>\n",
       "    <tr>\n",
       "      <th>2</th>\n",
       "      <td>m3</td>\n",
       "      <td>u1</td>\n",
       "      <td>The Dark Knight</td>\n",
       "      <td>['Action', 'Crime']</td>\n",
       "      <td>3</td>\n",
       "    </tr>\n",
       "    <tr>\n",
       "      <th>3</th>\n",
       "      <td>m4</td>\n",
       "      <td>u2</td>\n",
       "      <td>The Lord of the Rings: The Fellowship of the Ring</td>\n",
       "      <td>['Adventure', 'Fantasy']</td>\n",
       "      <td>4</td>\n",
       "    </tr>\n",
       "    <tr>\n",
       "      <th>4</th>\n",
       "      <td>m5</td>\n",
       "      <td>u2</td>\n",
       "      <td>The Matrix</td>\n",
       "      <td>['Action', 'Sci-Fi']</td>\n",
       "      <td>5</td>\n",
       "    </tr>\n",
       "  </tbody>\n",
       "</table>\n",
       "</div>"
      ],
      "text/plain": [
       "  movieId userId                                              title  \\\n",
       "0      m1     u1                                      The Godfather   \n",
       "1      m2     u1                           The Shawshank Redemption   \n",
       "2      m3     u1                                    The Dark Knight   \n",
       "3      m4     u2  The Lord of the Rings: The Fellowship of the Ring   \n",
       "4      m5     u2                                         The Matrix   \n",
       "\n",
       "                     genres  rating  \n",
       "0        ['Crime', 'Drama']       5  \n",
       "1        ['Drama', 'Crime']       4  \n",
       "2       ['Action', 'Crime']       3  \n",
       "3  ['Adventure', 'Fantasy']       4  \n",
       "4      ['Action', 'Sci-Fi']       5  "
      ]
     },
     "execution_count": 3,
     "metadata": {},
     "output_type": "execute_result"
    }
   ],
   "source": [
    "movie_ratings.head()"
   ]
  },
  {
   "cell_type": "markdown",
   "metadata": {},
   "source": [
    "### Getting unique genres"
   ]
  },
  {
   "cell_type": "code",
   "execution_count": 4,
   "metadata": {},
   "outputs": [
    {
     "data": {
      "text/plain": [
       "{'Action',\n",
       " 'Adventure',\n",
       " 'Comedy',\n",
       " 'Crime',\n",
       " 'Drama',\n",
       " 'Fantasy',\n",
       " 'History',\n",
       " 'Romance',\n",
       " 'Sci-Fi',\n",
       " 'Thriller',\n",
       " 'War'}"
      ]
     },
     "execution_count": 4,
     "metadata": {},
     "output_type": "execute_result"
    }
   ],
   "source": [
    "get_genres = set()\n",
    "for genres in movie_ratings['genres']:\n",
    "    get_genres.update(eval(genres))\n",
    "\n",
    "get_genres"
   ]
  },
  {
   "cell_type": "markdown",
   "metadata": {},
   "source": [
    "### Adding index to each unique genre"
   ]
  },
  {
   "cell_type": "code",
   "execution_count": 5,
   "metadata": {},
   "outputs": [
    {
     "name": "stdout",
     "output_type": "stream",
     "text": [
      "\n",
      "Unique Movie Genres with IDs:\n",
      "Adventure: 0\n",
      "Sci-Fi: 1\n",
      "Comedy: 2\n",
      "Crime: 3\n",
      "War: 4\n",
      "Action: 5\n",
      "Drama: 6\n",
      "Thriller: 7\n",
      "History: 8\n",
      "Romance: 9\n",
      "Fantasy: 10\n"
     ]
    }
   ],
   "source": [
    "genre_ids = {genre: idx for idx, genre in enumerate(get_genres)}\n",
    "\n",
    "print(\"\\nUnique Movie Genres with IDs:\")\n",
    "for genre in get_genres:\n",
    "    print(f\"{genre}: {genre_ids[genre]}\")"
   ]
  },
  {
   "cell_type": "markdown",
   "metadata": {},
   "source": [
    "### Creating and intializing User vectors "
   ]
  },
  {
   "cell_type": "code",
   "execution_count": 7,
   "metadata": {},
   "outputs": [
    {
     "data": {
      "text/plain": [
       "{'u1': [0, 0, 0, 0, 0, 0, 0, 0, 0, 0, 0],\n",
       " 'u2': [0, 0, 0, 0, 0, 0, 0, 0, 0, 0, 0],\n",
       " 'u3': [0, 0, 0, 0, 0, 0, 0, 0, 0, 0, 0],\n",
       " 'u4': [0, 0, 0, 0, 0, 0, 0, 0, 0, 0, 0],\n",
       " 'u5': [0, 0, 0, 0, 0, 0, 0, 0, 0, 0, 0],\n",
       " 'u6': [0, 0, 0, 0, 0, 0, 0, 0, 0, 0, 0],\n",
       " 'u7': [0, 0, 0, 0, 0, 0, 0, 0, 0, 0, 0],\n",
       " 'u8': [0, 0, 0, 0, 0, 0, 0, 0, 0, 0, 0],\n",
       " 'u9': [0, 0, 0, 0, 0, 0, 0, 0, 0, 0, 0],\n",
       " 'u10': [0, 0, 0, 0, 0, 0, 0, 0, 0, 0, 0],\n",
       " 'u11': [0, 0, 0, 0, 0, 0, 0, 0, 0, 0, 0],\n",
       " 'u12': [0, 0, 0, 0, 0, 0, 0, 0, 0, 0, 0],\n",
       " 'u13': [0, 0, 0, 0, 0, 0, 0, 0, 0, 0, 0],\n",
       " 'u14': [0, 0, 0, 0, 0, 0, 0, 0, 0, 0, 0],\n",
       " 'u15': [0, 0, 0, 0, 0, 0, 0, 0, 0, 0, 0]}"
      ]
     },
     "execution_count": 7,
     "metadata": {},
     "output_type": "execute_result"
    }
   ],
   "source": [
    "user_vector = {}\n",
    "for user_id in movie_ratings['userId'].unique():\n",
    "    user_vector[user_id] = [0] * len(get_genres)\n",
    "user_vector"
   ]
  },
  {
   "cell_type": "markdown",
   "metadata": {},
   "source": [
    "### Updating User vectors with ratings"
   ]
  },
  {
   "cell_type": "code",
   "execution_count": 8,
   "metadata": {},
   "outputs": [
    {
     "name": "stdout",
     "output_type": "stream",
     "text": [
      "\n",
      "User Vectors:\n",
      "User u1: [0, 0, 0, 3.75, 0, 3, 4.5, 0, 0, 0, 0]\n",
      "User u2: [4, 5, 0, 0, 0, 5, 0, 0, 0, 0, 4]\n",
      "User u3: [5, 5, 4, 4, 0, 5, 0, 0, 0, 0, 0]\n",
      "User u4: [0, 0, 0, 5, 0, 0, 4.5, 0, 0, 4, 5]\n",
      "User u5: [0, 0, 0, 4, 0, 0, 5, 4, 0, 0, 0]\n",
      "User u6: [0, 0, 0, 0, 4, 0, 4.5, 0, 5, 0, 0]\n",
      "User u7: [0, 0, 0, 4.5, 0, 0, 4.5, 0, 0, 0, 0]\n",
      "User u8: [4, 0, 0, 5, 0, 5, 0, 0, 0, 0, 4]\n",
      "User u9: [4, 5, 0, 0, 4, 5, 0, 0, 0, 0, 0]\n",
      "User u10: [0, 0, 5, 4.5, 0, 0, 4, 0, 0, 0, 0]\n",
      "User u11: [0, 0, 0, 5, 0, 0, 4.5, 5, 0, 4, 0]\n",
      "User u12: [0, 0, 0, 5, 0, 0, 4.5, 4, 0, 0, 5]\n",
      "User u13: [0, 0, 0, 0, 4, 0, 4.5, 0, 5, 0, 0]\n",
      "User u14: [0, 0, 0, 4.5, 0, 0, 4.5, 0, 0, 0, 0]\n",
      "User u15: [0, 0, 0, 5, 0, 5, 0, 0, 0, 0, 0]\n"
     ]
    }
   ],
   "source": [
    "for idx, row in movie_ratings.iterrows():\n",
    "    user_id = row['userId']\n",
    "    genres = eval(row['genres'])\n",
    "    rating = row['rating']\n",
    "\n",
    "    for genre in genres:\n",
    "        genre_idx = genre_ids[genre]\n",
    "        if (user_vector[user_id][genre_idx] == 0):\n",
    "            user_vector[user_id][genre_idx] += rating\n",
    "        else:\n",
    "            current_mean = user_vector[user_id][genre_idx]\n",
    "            new_mean = (current_mean + rating) / 2\n",
    "            user_vector[user_id][genre_idx] = new_mean\n",
    "\n",
    "print(\"\\nUser Vectors:\")\n",
    "for user_id, vector in user_vector.items():\n",
    "    print(f\"User {user_id}: {vector}\")"
   ]
  },
  {
   "cell_type": "markdown",
   "metadata": {},
   "source": [
    "### recommend_movies function to recommend movies"
   ]
  },
  {
   "cell_type": "code",
   "execution_count": 9,
   "metadata": {},
   "outputs": [],
   "source": [
    "def recommend_movies(user_id, user_vectors, movie_df, genre_ids, num_recommendations=3):\n",
    "    user_vector = np.array(user_vectors[user_id])\n",
    "    recommendations = []\n",
    "    for idx, row in movie_df.iterrows():\n",
    "        movie_title = row['title']\n",
    "        genres = row['genres'].split('|')\n",
    "        movie_vector = np.zeros(len(genre_ids))\n",
    "        for genre in genres:\n",
    "            if genre in genre_ids:\n",
    "                genre_idx = genre_ids[genre]\n",
    "                movie_vector[genre_idx] = 1\n",
    "        similarity_score = np.dot(user_vector, movie_vector)\n",
    "        recommendations.append((movie_title, similarity_score))\n",
    "    recommendations.sort(key=lambda x: x[1], reverse=True)\n",
    "    return recommendations[:num_recommendations]"
   ]
  },
  {
   "cell_type": "markdown",
   "metadata": {},
   "source": [
    "### User Input to the function"
   ]
  },
  {
   "cell_type": "code",
   "execution_count": 12,
   "metadata": {},
   "outputs": [
    {
     "name": "stdout",
     "output_type": "stream",
     "text": [
      "\n",
      "Recommended Movies:\n",
      "Evaru (Similarity Score: 3.75)\n",
      "Cobra (Similarity Score: 3.0)\n",
      "Major (Similarity Score: 3.0)\n"
     ]
    }
   ],
   "source": [
    "movies_df = pd.DataFrame({\n",
    "    'title': ['Life Is Beautiful', 'Cobra', 'Student Of The Year', 'Evaru', 'Ghazi Attack', 'Major'],\n",
    "    'genres': ['Fantasy|Comedy', 'Action|Thriller', 'Adventure|Comedy', 'Crime|Thriller', 'War|History',\n",
    "               'Action|Thriller']\n",
    "})\n",
    "user_id = \"u1\"\n",
    "recommendations = recommend_movies(user_id, user_vector, movies_df, genre_ids)\n",
    "print(\"\\nRecommended Movies:\")\n",
    "for movie, score in recommendations:\n",
    "    print(f\"{movie} (Similarity Score: {score})\")"
   ]
  }
 ],
 "metadata": {
  "kernelspec": {
   "display_name": "myenv",
   "language": "python",
   "name": "python3"
  },
  "language_info": {
   "codemirror_mode": {
    "name": "ipython",
    "version": 3
   },
   "file_extension": ".py",
   "mimetype": "text/x-python",
   "name": "python",
   "nbconvert_exporter": "python",
   "pygments_lexer": "ipython3",
   "version": "3.10.12"
  }
 },
 "nbformat": 4,
 "nbformat_minor": 2
}
